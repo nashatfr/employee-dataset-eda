{
 "cells": [
  {
   "cell_type": "markdown",
   "id": "116d9dff-8605-4d57-ac2b-348c6af4e837",
   "metadata": {},
   "source": [
    "## Task 1 - Estarta AI internship\n",
    "# Employees Data Analysis\n",
    "### Nashat AlFarajat"
   ]
  },
  {
   "cell_type": "markdown",
   "id": "42a62244-41fd-481d-9d32-2565dd056012",
   "metadata": {},
   "source": [
    "#"
   ]
  },
  {
   "cell_type": "markdown",
   "id": "b7efe4bf-5421-4786-8cb9-6a4d84760598",
   "metadata": {},
   "source": [
    "#### importing "
   ]
  },
  {
   "cell_type": "code",
   "execution_count": 1,
   "id": "c0ada291-4188-48ee-aafd-966a148d07a4",
   "metadata": {},
   "outputs": [],
   "source": [
    "import pandas as pd\n",
    "import numpy as np\n",
    "import matplotlib.pyplot as plt\n",
    "import seaborn as sns"
   ]
  },
  {
   "cell_type": "code",
   "execution_count": 2,
   "id": "5e3132a6-8640-4125-8c7b-a37bbc112821",
   "metadata": {},
   "outputs": [],
   "source": [
    "data_link=r\"C:\\Users\\NSHAT\\Estarta - internship\\task 1\\Employee Sample Data - A.xlsx\""
   ]
  },
  {
   "cell_type": "code",
   "execution_count": 3,
   "id": "e39dae05-c091-482f-b781-3f3a9315e88b",
   "metadata": {},
   "outputs": [
    {
     "data": {
      "text/html": [
       "<div>\n",
       "<style scoped>\n",
       "    .dataframe tbody tr th:only-of-type {\n",
       "        vertical-align: middle;\n",
       "    }\n",
       "\n",
       "    .dataframe tbody tr th {\n",
       "        vertical-align: top;\n",
       "    }\n",
       "\n",
       "    .dataframe thead th {\n",
       "        text-align: right;\n",
       "    }\n",
       "</style>\n",
       "<table border=\"1\" class=\"dataframe\">\n",
       "  <thead>\n",
       "    <tr style=\"text-align: right;\">\n",
       "      <th></th>\n",
       "      <th>EEID</th>\n",
       "      <th>Full Name</th>\n",
       "      <th>Job Title</th>\n",
       "      <th>Department</th>\n",
       "      <th>Business Unit</th>\n",
       "      <th>Gender</th>\n",
       "      <th>Ethnicity</th>\n",
       "      <th>Age</th>\n",
       "      <th>Hire Date</th>\n",
       "      <th>Annual Salary</th>\n",
       "      <th>Bonus %</th>\n",
       "      <th>Country</th>\n",
       "      <th>City</th>\n",
       "      <th>Exit Date</th>\n",
       "    </tr>\n",
       "  </thead>\n",
       "  <tbody>\n",
       "    <tr>\n",
       "      <th>0</th>\n",
       "      <td>E02387</td>\n",
       "      <td>Emily Davis</td>\n",
       "      <td>Sr. Manger</td>\n",
       "      <td>IT</td>\n",
       "      <td>Research &amp; Development</td>\n",
       "      <td>Female</td>\n",
       "      <td>Black</td>\n",
       "      <td>55.0</td>\n",
       "      <td>2016-04-08</td>\n",
       "      <td>141604.0</td>\n",
       "      <td>0.15</td>\n",
       "      <td>United States</td>\n",
       "      <td>Seattle</td>\n",
       "      <td>2021-10-16</td>\n",
       "    </tr>\n",
       "    <tr>\n",
       "      <th>1</th>\n",
       "      <td>E04105</td>\n",
       "      <td>Theodore Dinh</td>\n",
       "      <td>Technical Architect</td>\n",
       "      <td>IT</td>\n",
       "      <td>Manufacturing</td>\n",
       "      <td>Male</td>\n",
       "      <td>Asian</td>\n",
       "      <td>59.0</td>\n",
       "      <td>1997-11-29</td>\n",
       "      <td>99975.0</td>\n",
       "      <td>0.00</td>\n",
       "      <td>China</td>\n",
       "      <td>Chongqing</td>\n",
       "      <td>NaT</td>\n",
       "    </tr>\n",
       "    <tr>\n",
       "      <th>2</th>\n",
       "      <td>E02572</td>\n",
       "      <td>Luna Sanders</td>\n",
       "      <td>Director</td>\n",
       "      <td>Finance</td>\n",
       "      <td>Speciality Products</td>\n",
       "      <td>Female</td>\n",
       "      <td>Caucasian</td>\n",
       "      <td>50.0</td>\n",
       "      <td>2006-10-26</td>\n",
       "      <td>163099.0</td>\n",
       "      <td>0.20</td>\n",
       "      <td>United States</td>\n",
       "      <td>Chicago</td>\n",
       "      <td>NaT</td>\n",
       "    </tr>\n",
       "    <tr>\n",
       "      <th>3</th>\n",
       "      <td>E02832</td>\n",
       "      <td>Penelope Jordan</td>\n",
       "      <td>Computer Systems Manager</td>\n",
       "      <td>IT</td>\n",
       "      <td>Manufacturing</td>\n",
       "      <td>Female</td>\n",
       "      <td>Caucasian</td>\n",
       "      <td>26.0</td>\n",
       "      <td>2019-09-27</td>\n",
       "      <td>84913.0</td>\n",
       "      <td>0.07</td>\n",
       "      <td>United States</td>\n",
       "      <td>Chicago</td>\n",
       "      <td>NaT</td>\n",
       "    </tr>\n",
       "    <tr>\n",
       "      <th>4</th>\n",
       "      <td>E01639</td>\n",
       "      <td>Austin Vo</td>\n",
       "      <td>Sr. Analyst</td>\n",
       "      <td>Finance</td>\n",
       "      <td>Manufacturing</td>\n",
       "      <td>Male</td>\n",
       "      <td>Asian</td>\n",
       "      <td>55.0</td>\n",
       "      <td>1995-11-20</td>\n",
       "      <td>95409.0</td>\n",
       "      <td>0.00</td>\n",
       "      <td>United States</td>\n",
       "      <td>Phoenix</td>\n",
       "      <td>NaT</td>\n",
       "    </tr>\n",
       "  </tbody>\n",
       "</table>\n",
       "</div>"
      ],
      "text/plain": [
       "     EEID        Full Name                 Job Title Department  \\\n",
       "0  E02387      Emily Davis                Sr. Manger         IT   \n",
       "1  E04105    Theodore Dinh       Technical Architect         IT   \n",
       "2  E02572     Luna Sanders                  Director    Finance   \n",
       "3  E02832  Penelope Jordan  Computer Systems Manager         IT   \n",
       "4  E01639        Austin Vo               Sr. Analyst    Finance   \n",
       "\n",
       "            Business Unit  Gender  Ethnicity   Age  Hire Date  Annual Salary  \\\n",
       "0  Research & Development  Female      Black  55.0 2016-04-08       141604.0   \n",
       "1           Manufacturing    Male      Asian  59.0 1997-11-29        99975.0   \n",
       "2     Speciality Products  Female  Caucasian  50.0 2006-10-26       163099.0   \n",
       "3           Manufacturing  Female  Caucasian  26.0 2019-09-27        84913.0   \n",
       "4           Manufacturing    Male      Asian  55.0 1995-11-20        95409.0   \n",
       "\n",
       "   Bonus %        Country       City  Exit Date  \n",
       "0     0.15  United States    Seattle 2021-10-16  \n",
       "1     0.00          China  Chongqing        NaT  \n",
       "2     0.20  United States    Chicago        NaT  \n",
       "3     0.07  United States    Chicago        NaT  \n",
       "4     0.00  United States    Phoenix        NaT  "
      ]
     },
     "execution_count": 3,
     "metadata": {},
     "output_type": "execute_result"
    }
   ],
   "source": [
    "df = pd.read_excel(data_link)\n",
    "df.head()"
   ]
  },
  {
   "cell_type": "code",
   "execution_count": 4,
   "id": "04ea9191-d1e9-4a41-aa14-dfdd67a6fcd5",
   "metadata": {},
   "outputs": [
    {
     "data": {
      "text/plain": [
       "(1000, 14)"
      ]
     },
     "execution_count": 4,
     "metadata": {},
     "output_type": "execute_result"
    }
   ],
   "source": [
    "df.shape"
   ]
  },
  {
   "cell_type": "code",
   "execution_count": 5,
   "id": "06770492-1444-4330-994a-2fa7c92971ff",
   "metadata": {},
   "outputs": [
    {
     "data": {
      "text/html": [
       "<div>\n",
       "<style scoped>\n",
       "    .dataframe tbody tr th:only-of-type {\n",
       "        vertical-align: middle;\n",
       "    }\n",
       "\n",
       "    .dataframe tbody tr th {\n",
       "        vertical-align: top;\n",
       "    }\n",
       "\n",
       "    .dataframe thead th {\n",
       "        text-align: right;\n",
       "    }\n",
       "</style>\n",
       "<table border=\"1\" class=\"dataframe\">\n",
       "  <thead>\n",
       "    <tr style=\"text-align: right;\">\n",
       "      <th></th>\n",
       "      <th>Age</th>\n",
       "      <th>Hire Date</th>\n",
       "      <th>Annual Salary</th>\n",
       "      <th>Bonus %</th>\n",
       "      <th>Exit Date</th>\n",
       "    </tr>\n",
       "  </thead>\n",
       "  <tbody>\n",
       "    <tr>\n",
       "      <th>count</th>\n",
       "      <td>994.000000</td>\n",
       "      <td>993</td>\n",
       "      <td>989.00000</td>\n",
       "      <td>992.000000</td>\n",
       "      <td>85</td>\n",
       "    </tr>\n",
       "    <tr>\n",
       "      <th>mean</th>\n",
       "      <td>44.369215</td>\n",
       "      <td>2012-04-17 22:56:11.601208576</td>\n",
       "      <td>113372.62184</td>\n",
       "      <td>0.088972</td>\n",
       "      <td>2016-11-02 18:04:14.117647104</td>\n",
       "    </tr>\n",
       "    <tr>\n",
       "      <th>min</th>\n",
       "      <td>25.000000</td>\n",
       "      <td>1992-01-09 00:00:00</td>\n",
       "      <td>40063.00000</td>\n",
       "      <td>0.000000</td>\n",
       "      <td>1994-12-18 00:00:00</td>\n",
       "    </tr>\n",
       "    <tr>\n",
       "      <th>25%</th>\n",
       "      <td>35.000000</td>\n",
       "      <td>2007-02-24 00:00:00</td>\n",
       "      <td>71234.00000</td>\n",
       "      <td>0.000000</td>\n",
       "      <td>2014-12-25 00:00:00</td>\n",
       "    </tr>\n",
       "    <tr>\n",
       "      <th>50%</th>\n",
       "      <td>45.000000</td>\n",
       "      <td>2014-02-20 00:00:00</td>\n",
       "      <td>96567.00000</td>\n",
       "      <td>0.000000</td>\n",
       "      <td>2019-05-23 00:00:00</td>\n",
       "    </tr>\n",
       "    <tr>\n",
       "      <th>75%</th>\n",
       "      <td>54.000000</td>\n",
       "      <td>2018-06-25 00:00:00</td>\n",
       "      <td>151027.00000</td>\n",
       "      <td>0.150000</td>\n",
       "      <td>2021-04-09 00:00:00</td>\n",
       "    </tr>\n",
       "    <tr>\n",
       "      <th>max</th>\n",
       "      <td>65.000000</td>\n",
       "      <td>2021-12-26 00:00:00</td>\n",
       "      <td>258498.00000</td>\n",
       "      <td>0.400000</td>\n",
       "      <td>2022-08-17 00:00:00</td>\n",
       "    </tr>\n",
       "    <tr>\n",
       "      <th>std</th>\n",
       "      <td>11.248162</td>\n",
       "      <td>NaN</td>\n",
       "      <td>53729.04678</td>\n",
       "      <td>0.118135</td>\n",
       "      <td>NaN</td>\n",
       "    </tr>\n",
       "  </tbody>\n",
       "</table>\n",
       "</div>"
      ],
      "text/plain": [
       "              Age                      Hire Date  Annual Salary     Bonus %  \\\n",
       "count  994.000000                            993      989.00000  992.000000   \n",
       "mean    44.369215  2012-04-17 22:56:11.601208576   113372.62184    0.088972   \n",
       "min     25.000000            1992-01-09 00:00:00    40063.00000    0.000000   \n",
       "25%     35.000000            2007-02-24 00:00:00    71234.00000    0.000000   \n",
       "50%     45.000000            2014-02-20 00:00:00    96567.00000    0.000000   \n",
       "75%     54.000000            2018-06-25 00:00:00   151027.00000    0.150000   \n",
       "max     65.000000            2021-12-26 00:00:00   258498.00000    0.400000   \n",
       "std     11.248162                            NaN    53729.04678    0.118135   \n",
       "\n",
       "                           Exit Date  \n",
       "count                             85  \n",
       "mean   2016-11-02 18:04:14.117647104  \n",
       "min              1994-12-18 00:00:00  \n",
       "25%              2014-12-25 00:00:00  \n",
       "50%              2019-05-23 00:00:00  \n",
       "75%              2021-04-09 00:00:00  \n",
       "max              2022-08-17 00:00:00  \n",
       "std                              NaN  "
      ]
     },
     "execution_count": 5,
     "metadata": {},
     "output_type": "execute_result"
    }
   ],
   "source": [
    "df.describe()"
   ]
  },
  {
   "cell_type": "code",
   "execution_count": 6,
   "id": "b268536a-f048-4426-b309-a7d20a1fc312",
   "metadata": {},
   "outputs": [
    {
     "name": "stdout",
     "output_type": "stream",
     "text": [
      "<class 'pandas.core.frame.DataFrame'>\n",
      "RangeIndex: 1000 entries, 0 to 999\n",
      "Data columns (total 14 columns):\n",
      " #   Column         Non-Null Count  Dtype         \n",
      "---  ------         --------------  -----         \n",
      " 0   EEID           1000 non-null   object        \n",
      " 1   Full Name      998 non-null    object        \n",
      " 2   Job Title      999 non-null    object        \n",
      " 3   Department     998 non-null    object        \n",
      " 4   Business Unit  1000 non-null   object        \n",
      " 5   Gender         999 non-null    object        \n",
      " 6   Ethnicity      993 non-null    object        \n",
      " 7   Age            994 non-null    float64       \n",
      " 8   Hire Date      993 non-null    datetime64[ns]\n",
      " 9   Annual Salary  989 non-null    float64       \n",
      " 10  Bonus %        992 non-null    float64       \n",
      " 11  Country        998 non-null    object        \n",
      " 12  City           998 non-null    object        \n",
      " 13  Exit Date      85 non-null     datetime64[ns]\n",
      "dtypes: datetime64[ns](2), float64(3), object(9)\n",
      "memory usage: 109.5+ KB\n"
     ]
    }
   ],
   "source": [
    "df.info()"
   ]
  },
  {
   "cell_type": "markdown",
   "id": "a9abd10e-8a57-446c-84f9-a8bb1aa971fc",
   "metadata": {},
   "source": [
    "# 1 - Data Cleaning"
   ]
  },
  {
   "cell_type": "markdown",
   "id": "e5aa62d3-f4df-4ffd-b3a5-0c47815aa386",
   "metadata": {},
   "source": [
    "### Missing Values"
   ]
  },
  {
   "cell_type": "code",
   "execution_count": 7,
   "id": "69a4fc5b-6bb0-4d50-b156-187c451a144a",
   "metadata": {},
   "outputs": [
    {
     "data": {
      "text/plain": [
       "EEID               0\n",
       "Full Name          2\n",
       "Job Title          1\n",
       "Department         2\n",
       "Business Unit      0\n",
       "Gender             1\n",
       "Ethnicity          7\n",
       "Age                6\n",
       "Hire Date          7\n",
       "Annual Salary     11\n",
       "Bonus %            8\n",
       "Country            2\n",
       "City               2\n",
       "Exit Date        915\n",
       "dtype: int64"
      ]
     },
     "execution_count": 7,
     "metadata": {},
     "output_type": "execute_result"
    }
   ],
   "source": [
    "df.isnull().sum()"
   ]
  },
  {
   "cell_type": "code",
   "execution_count": 8,
   "id": "dc3ec0ab-3820-4dff-8a6f-af61e7bbef72",
   "metadata": {},
   "outputs": [],
   "source": [
    "columns_to_drop_if_missing = ['Full Name', 'Job Title', 'Ethnicity', 'Hire Date', 'Country', 'City']\n",
    "df = df.dropna(subset=columns_to_drop_if_missing)"
   ]
  },
  {
   "cell_type": "code",
   "execution_count": 9,
   "id": "98c1d7dc-71a5-4854-b42d-171f0ec9e329",
   "metadata": {},
   "outputs": [
    {
     "data": {
      "text/plain": [
       "EEID               0\n",
       "Full Name          0\n",
       "Job Title          0\n",
       "Department         2\n",
       "Business Unit      0\n",
       "Gender             1\n",
       "Ethnicity          0\n",
       "Age                1\n",
       "Hire Date          0\n",
       "Annual Salary      4\n",
       "Bonus %            1\n",
       "Country            0\n",
       "City               0\n",
       "Exit Date        904\n",
       "dtype: int64"
      ]
     },
     "execution_count": 9,
     "metadata": {},
     "output_type": "execute_result"
    }
   ],
   "source": [
    "df.isnull().sum() # after removing the missing values that wont be filled"
   ]
  },
  {
   "cell_type": "code",
   "execution_count": 10,
   "id": "0a980577-8ecc-4985-a0a3-537dfc8f5fc1",
   "metadata": {},
   "outputs": [
    {
     "data": {
      "text/html": [
       "<div>\n",
       "<style scoped>\n",
       "    .dataframe tbody tr th:only-of-type {\n",
       "        vertical-align: middle;\n",
       "    }\n",
       "\n",
       "    .dataframe tbody tr th {\n",
       "        vertical-align: top;\n",
       "    }\n",
       "\n",
       "    .dataframe thead th {\n",
       "        text-align: right;\n",
       "    }\n",
       "</style>\n",
       "<table border=\"1\" class=\"dataframe\">\n",
       "  <thead>\n",
       "    <tr style=\"text-align: right;\">\n",
       "      <th></th>\n",
       "      <th>Full Name</th>\n",
       "      <th>Job Title</th>\n",
       "      <th>Department</th>\n",
       "    </tr>\n",
       "  </thead>\n",
       "  <tbody>\n",
       "    <tr>\n",
       "      <th>58</th>\n",
       "      <td>Zoey Jackson</td>\n",
       "      <td>Business Partner</td>\n",
       "      <td>NaN</td>\n",
       "    </tr>\n",
       "    <tr>\n",
       "      <th>112</th>\n",
       "      <td>Nova Coleman</td>\n",
       "      <td>System Administrator</td>\n",
       "      <td>NaN</td>\n",
       "    </tr>\n",
       "  </tbody>\n",
       "</table>\n",
       "</div>"
      ],
      "text/plain": [
       "        Full Name              Job Title Department\n",
       "58   Zoey Jackson       Business Partner        NaN\n",
       "112  Nova Coleman  System Administrator         NaN"
      ]
     },
     "execution_count": 10,
     "metadata": {},
     "output_type": "execute_result"
    }
   ],
   "source": [
    "df.loc[df[\"Department\"].isna(), [\"Full Name\", \"Job Title\", \"Department\"]] # to manually fill the departments"
   ]
  },
  {
   "cell_type": "code",
   "execution_count": 11,
   "id": "88e7fa8b-2148-4777-bea7-b3fd28d897a6",
   "metadata": {},
   "outputs": [
    {
     "data": {
      "text/html": [
       "<div>\n",
       "<style scoped>\n",
       "    .dataframe tbody tr th:only-of-type {\n",
       "        vertical-align: middle;\n",
       "    }\n",
       "\n",
       "    .dataframe tbody tr th {\n",
       "        vertical-align: top;\n",
       "    }\n",
       "\n",
       "    .dataframe thead th {\n",
       "        text-align: right;\n",
       "    }\n",
       "</style>\n",
       "<table border=\"1\" class=\"dataframe\">\n",
       "  <thead>\n",
       "    <tr style=\"text-align: right;\">\n",
       "      <th></th>\n",
       "      <th>Full Name</th>\n",
       "      <th>Job Title</th>\n",
       "      <th>Department</th>\n",
       "    </tr>\n",
       "  </thead>\n",
       "  <tbody>\n",
       "    <tr>\n",
       "      <th>58</th>\n",
       "      <td>Zoey Jackson</td>\n",
       "      <td>Business Partner</td>\n",
       "      <td>NaN</td>\n",
       "    </tr>\n",
       "    <tr>\n",
       "      <th>85</th>\n",
       "      <td>Willow Mai</td>\n",
       "      <td>Business Partner</td>\n",
       "      <td>Human Resources</td>\n",
       "    </tr>\n",
       "    <tr>\n",
       "      <th>112</th>\n",
       "      <td>Nova Coleman</td>\n",
       "      <td>System Administrator</td>\n",
       "      <td>NaN</td>\n",
       "    </tr>\n",
       "    <tr>\n",
       "      <th>200</th>\n",
       "      <td>Jonathan Chavez</td>\n",
       "      <td>System Administrator</td>\n",
       "      <td>IT</td>\n",
       "    </tr>\n",
       "    <tr>\n",
       "      <th>262</th>\n",
       "      <td>Cameron Powell</td>\n",
       "      <td>Business Partner</td>\n",
       "      <td>Human Resources</td>\n",
       "    </tr>\n",
       "    <tr>\n",
       "      <th>328</th>\n",
       "      <td>Scarlett Figueroa</td>\n",
       "      <td>Business Partner</td>\n",
       "      <td>Human Resources</td>\n",
       "    </tr>\n",
       "    <tr>\n",
       "      <th>350</th>\n",
       "      <td>Andrew Huynh</td>\n",
       "      <td>Business Partner</td>\n",
       "      <td>Human Resources</td>\n",
       "    </tr>\n",
       "    <tr>\n",
       "      <th>356</th>\n",
       "      <td>Genesis Xiong</td>\n",
       "      <td>System Administrator</td>\n",
       "      <td>IT</td>\n",
       "    </tr>\n",
       "    <tr>\n",
       "      <th>387</th>\n",
       "      <td>Jose Brown</td>\n",
       "      <td>System Administrator</td>\n",
       "      <td>IT</td>\n",
       "    </tr>\n",
       "    <tr>\n",
       "      <th>405</th>\n",
       "      <td>Wesley Adams</td>\n",
       "      <td>System Administrator</td>\n",
       "      <td>IT</td>\n",
       "    </tr>\n",
       "    <tr>\n",
       "      <th>409</th>\n",
       "      <td>Caroline Alexander</td>\n",
       "      <td>Business Partner</td>\n",
       "      <td>Human Resources</td>\n",
       "    </tr>\n",
       "    <tr>\n",
       "      <th>434</th>\n",
       "      <td>Lydia Williams</td>\n",
       "      <td>System Administrator</td>\n",
       "      <td>IT</td>\n",
       "    </tr>\n",
       "    <tr>\n",
       "      <th>435</th>\n",
       "      <td>Emery Chang</td>\n",
       "      <td>Business Partner</td>\n",
       "      <td>Human Resources</td>\n",
       "    </tr>\n",
       "    <tr>\n",
       "      <th>459</th>\n",
       "      <td>Nathan Lau</td>\n",
       "      <td>Business Partner</td>\n",
       "      <td>Human Resources</td>\n",
       "    </tr>\n",
       "    <tr>\n",
       "      <th>486</th>\n",
       "      <td>Athena Jordan</td>\n",
       "      <td>System Administrator</td>\n",
       "      <td>IT</td>\n",
       "    </tr>\n",
       "    <tr>\n",
       "      <th>490</th>\n",
       "      <td>Liliana Soto</td>\n",
       "      <td>Business Partner</td>\n",
       "      <td>Human Resources</td>\n",
       "    </tr>\n",
       "    <tr>\n",
       "      <th>492</th>\n",
       "      <td>Grayson Soto</td>\n",
       "      <td>Business Partner</td>\n",
       "      <td>Human Resources</td>\n",
       "    </tr>\n",
       "    <tr>\n",
       "      <th>504</th>\n",
       "      <td>Andrew Reed</td>\n",
       "      <td>System Administrator</td>\n",
       "      <td>IT</td>\n",
       "    </tr>\n",
       "    <tr>\n",
       "      <th>603</th>\n",
       "      <td>Lincoln Henderson</td>\n",
       "      <td>Business Partner</td>\n",
       "      <td>Human Resources</td>\n",
       "    </tr>\n",
       "    <tr>\n",
       "      <th>622</th>\n",
       "      <td>Charlotte Vo</td>\n",
       "      <td>System Administrator</td>\n",
       "      <td>IT</td>\n",
       "    </tr>\n",
       "    <tr>\n",
       "      <th>635</th>\n",
       "      <td>Anna Han</td>\n",
       "      <td>System Administrator</td>\n",
       "      <td>IT</td>\n",
       "    </tr>\n",
       "    <tr>\n",
       "      <th>662</th>\n",
       "      <td>Robert Vazquez</td>\n",
       "      <td>System Administrator</td>\n",
       "      <td>IT</td>\n",
       "    </tr>\n",
       "    <tr>\n",
       "      <th>712</th>\n",
       "      <td>Kennedy Vargas</td>\n",
       "      <td>Business Partner</td>\n",
       "      <td>Human Resources</td>\n",
       "    </tr>\n",
       "    <tr>\n",
       "      <th>751</th>\n",
       "      <td>Miles Thao</td>\n",
       "      <td>System Administrator</td>\n",
       "      <td>IT</td>\n",
       "    </tr>\n",
       "    <tr>\n",
       "      <th>765</th>\n",
       "      <td>Everly Lin</td>\n",
       "      <td>Business Partner</td>\n",
       "      <td>Human Resources</td>\n",
       "    </tr>\n",
       "    <tr>\n",
       "      <th>784</th>\n",
       "      <td>Benjamin Mai</td>\n",
       "      <td>System Administrator</td>\n",
       "      <td>IT</td>\n",
       "    </tr>\n",
       "    <tr>\n",
       "      <th>834</th>\n",
       "      <td>Josephine Richardson</td>\n",
       "      <td>System Administrator</td>\n",
       "      <td>IT</td>\n",
       "    </tr>\n",
       "    <tr>\n",
       "      <th>847</th>\n",
       "      <td>Cooper Gupta</td>\n",
       "      <td>Business Partner</td>\n",
       "      <td>Human Resources</td>\n",
       "    </tr>\n",
       "    <tr>\n",
       "      <th>851</th>\n",
       "      <td>Eliana Allen</td>\n",
       "      <td>Business Partner</td>\n",
       "      <td>Human Resources</td>\n",
       "    </tr>\n",
       "    <tr>\n",
       "      <th>891</th>\n",
       "      <td>Hazel Alvarez</td>\n",
       "      <td>Business Partner</td>\n",
       "      <td>Human Resources</td>\n",
       "    </tr>\n",
       "    <tr>\n",
       "      <th>893</th>\n",
       "      <td>Lincoln Huynh</td>\n",
       "      <td>System Administrator</td>\n",
       "      <td>IT</td>\n",
       "    </tr>\n",
       "    <tr>\n",
       "      <th>894</th>\n",
       "      <td>Hadley Yee</td>\n",
       "      <td>Business Partner</td>\n",
       "      <td>Human Resources</td>\n",
       "    </tr>\n",
       "    <tr>\n",
       "      <th>895</th>\n",
       "      <td>Julia Doan</td>\n",
       "      <td>Business Partner</td>\n",
       "      <td>Human Resources</td>\n",
       "    </tr>\n",
       "    <tr>\n",
       "      <th>901</th>\n",
       "      <td>Jackson Jordan</td>\n",
       "      <td>Business Partner</td>\n",
       "      <td>Human Resources</td>\n",
       "    </tr>\n",
       "  </tbody>\n",
       "</table>\n",
       "</div>"
      ],
      "text/plain": [
       "                Full Name              Job Title       Department\n",
       "58           Zoey Jackson       Business Partner              NaN\n",
       "85             Willow Mai       Business Partner  Human Resources\n",
       "112          Nova Coleman  System Administrator               NaN\n",
       "200       Jonathan Chavez  System Administrator                IT\n",
       "262        Cameron Powell       Business Partner  Human Resources\n",
       "328     Scarlett Figueroa       Business Partner  Human Resources\n",
       "350          Andrew Huynh       Business Partner  Human Resources\n",
       "356         Genesis Xiong  System Administrator                IT\n",
       "387            Jose Brown  System Administrator                IT\n",
       "405          Wesley Adams  System Administrator                IT\n",
       "409    Caroline Alexander       Business Partner  Human Resources\n",
       "434        Lydia Williams  System Administrator                IT\n",
       "435           Emery Chang       Business Partner  Human Resources\n",
       "459            Nathan Lau       Business Partner  Human Resources\n",
       "486         Athena Jordan  System Administrator                IT\n",
       "490          Liliana Soto       Business Partner  Human Resources\n",
       "492          Grayson Soto       Business Partner  Human Resources\n",
       "504           Andrew Reed  System Administrator                IT\n",
       "603     Lincoln Henderson       Business Partner  Human Resources\n",
       "622          Charlotte Vo  System Administrator                IT\n",
       "635              Anna Han  System Administrator                IT\n",
       "662        Robert Vazquez  System Administrator                IT\n",
       "712        Kennedy Vargas       Business Partner  Human Resources\n",
       "751            Miles Thao  System Administrator                IT\n",
       "765            Everly Lin       Business Partner  Human Resources\n",
       "784          Benjamin Mai  System Administrator                IT\n",
       "834  Josephine Richardson  System Administrator                IT\n",
       "847          Cooper Gupta       Business Partner  Human Resources\n",
       "851          Eliana Allen       Business Partner  Human Resources\n",
       "891         Hazel Alvarez       Business Partner  Human Resources\n",
       "893         Lincoln Huynh  System Administrator                IT\n",
       "894            Hadley Yee       Business Partner  Human Resources\n",
       "895            Julia Doan       Business Partner  Human Resources\n",
       "901        Jackson Jordan       Business Partner  Human Resources"
      ]
     },
     "execution_count": 11,
     "metadata": {},
     "output_type": "execute_result"
    }
   ],
   "source": [
    "df.loc[(df[\"Job Title\"] == \"System Administrator \") | (df[\"Job Title\"] == \"Business Partner\"),[\"Full Name\", \"Job Title\", \"Department\"]]"
   ]
  },
  {
   "cell_type": "code",
   "execution_count": 12,
   "id": "2db38b95-eda4-4eaf-970a-9b1122fbb46d",
   "metadata": {},
   "outputs": [],
   "source": [
    "#manually filling the missing Values\n",
    "df.loc[(df[\"Department\"].isna()) & (df[\"Job Title\"] == \"System Administrator \"), \"Department\"] = \"IT\"\n",
    "df.loc[(df[\"Department\"].isna()) & (df[\"Job Title\"] == \"Business Partner\"), \"Department\"] = \"Human Resources\""
   ]
  },
  {
   "cell_type": "code",
   "execution_count": 13,
   "id": "d6a6a120-620e-4cda-b7d9-0f65cdeabfe5",
   "metadata": {},
   "outputs": [
    {
     "data": {
      "text/html": [
       "<div>\n",
       "<style scoped>\n",
       "    .dataframe tbody tr th:only-of-type {\n",
       "        vertical-align: middle;\n",
       "    }\n",
       "\n",
       "    .dataframe tbody tr th {\n",
       "        vertical-align: top;\n",
       "    }\n",
       "\n",
       "    .dataframe thead th {\n",
       "        text-align: right;\n",
       "    }\n",
       "</style>\n",
       "<table border=\"1\" class=\"dataframe\">\n",
       "  <thead>\n",
       "    <tr style=\"text-align: right;\">\n",
       "      <th></th>\n",
       "      <th>Full Name</th>\n",
       "      <th>Job Title</th>\n",
       "      <th>Department</th>\n",
       "      <th>Business Unit</th>\n",
       "    </tr>\n",
       "  </thead>\n",
       "  <tbody>\n",
       "    <tr>\n",
       "      <th>11</th>\n",
       "      <td>Camila Rogers</td>\n",
       "      <td>Controls Engineer</td>\n",
       "      <td>Engineering</td>\n",
       "      <td>Speciality Products</td>\n",
       "    </tr>\n",
       "    <tr>\n",
       "      <th>55</th>\n",
       "      <td>Piper Lewis</td>\n",
       "      <td>Field Engineer</td>\n",
       "      <td>Engineering</td>\n",
       "      <td>Research &amp; Development</td>\n",
       "    </tr>\n",
       "    <tr>\n",
       "      <th>94</th>\n",
       "      <td>Matthew Chau</td>\n",
       "      <td>Sr. Business Partner</td>\n",
       "      <td>Human Resources</td>\n",
       "      <td>Research &amp; Development</td>\n",
       "    </tr>\n",
       "    <tr>\n",
       "      <th>108</th>\n",
       "      <td>Andrew Thomas</td>\n",
       "      <td>Controls Engineer</td>\n",
       "      <td>Engineering</td>\n",
       "      <td>Manufacturing</td>\n",
       "    </tr>\n",
       "  </tbody>\n",
       "</table>\n",
       "</div>"
      ],
      "text/plain": [
       "         Full Name             Job Title       Department  \\\n",
       "11   Camila Rogers     Controls Engineer      Engineering   \n",
       "55     Piper Lewis        Field Engineer      Engineering   \n",
       "94    Matthew Chau  Sr. Business Partner  Human Resources   \n",
       "108  Andrew Thomas     Controls Engineer      Engineering   \n",
       "\n",
       "              Business Unit  \n",
       "11      Speciality Products  \n",
       "55   Research & Development  \n",
       "94   Research & Development  \n",
       "108           Manufacturing  "
      ]
     },
     "execution_count": 13,
     "metadata": {},
     "output_type": "execute_result"
    }
   ],
   "source": [
    "#missing values in salary, will be filled using the mean of salary for employees in the same dept and business unit and job title\n",
    "df.loc[df[\"Annual Salary\"].isna(),[\"Full Name\", \"Job Title\", \"Department\",\"Business Unit\"]]"
   ]
  },
  {
   "cell_type": "code",
   "execution_count": 14,
   "id": "fdf585b9-a01f-4716-a956-ca0bc3849c8c",
   "metadata": {},
   "outputs": [
    {
     "name": "stdout",
     "output_type": "stream",
     "text": [
      "110760.0\n",
      "78075.25\n",
      "86491.0\n",
      "103179.33333333333\n"
     ]
    }
   ],
   "source": [
    "print(df.loc[(df[\"Job Title\"] == \"Controls Engineer\") & (df[\"Department\"] == \"Engineering\") & (df[\"Business Unit\"] == \"Speciality Products\"),\"Annual Salary\"].mean())\n",
    "print(df.loc[(df[\"Job Title\"] == \"Field Engineer\") & (df[\"Department\"] == \"Engineering\") & (df[\"Business Unit\"] == \"Research & Development\"),\"Annual Salary\"].mean())\n",
    "print(df.loc[(df[\"Job Title\"] == \"Sr. Business Partner\") & (df[\"Department\"] == \"Human Resources\") & (df[\"Business Unit\"] == \"Research & Development\"),\"Annual Salary\"].mean())\n",
    "print(df.loc[(df[\"Job Title\"] == \"Controls Engineer\") & (df[\"Department\"] == \"Engineering\") & (df[\"Business Unit\"] == \"Manufacturing\"),\"Annual Salary\"].mean())"
   ]
  },
  {
   "cell_type": "code",
   "execution_count": 15,
   "id": "74428b13-06f4-4c28-87f8-e087084343f3",
   "metadata": {},
   "outputs": [],
   "source": [
    "df.loc[(df[\"Annual Salary\"].isna()) &(df[\"Job Title\"] == \"Controls Engineer\") &(df[\"Department\"] == \"Engineering\") &(df[\"Business Unit\"] == \"Speciality Products\"),\"Annual Salary\"] = 110760.0\n",
    "\n",
    "df.loc[(df[\"Annual Salary\"].isna()) &(df[\"Job Title\"] == \"Field Engineer\") &(df[\"Department\"] == \"Engineering\") &(df[\"Business Unit\"] == \"Research & Development\"),\"Annual Salary\"] = 78075.25\n",
    "\n",
    "df.loc[(df[\"Annual Salary\"].isna()) &(df[\"Job Title\"] == \"Sr. Business Partner\") &(df[\"Department\"] == \"Human Resources\") &(df[\"Business Unit\"] == \"Research & Development\"),\"Annual Salary\"] = 86491.0\n",
    "\n",
    "df.loc[(df[\"Annual Salary\"].isna()) &(df[\"Job Title\"] == \"Controls Engineer\") &(df[\"Department\"] == \"Engineering\") &(df[\"Business Unit\"] == \"Manufacturing\"),\"Annual Salary\"] = 103179.33"
   ]
  },
  {
   "cell_type": "code",
   "execution_count": 16,
   "id": "866ab22b-26d6-4193-b2fe-1685330cb89f",
   "metadata": {},
   "outputs": [
    {
     "data": {
      "text/html": [
       "<div>\n",
       "<style scoped>\n",
       "    .dataframe tbody tr th:only-of-type {\n",
       "        vertical-align: middle;\n",
       "    }\n",
       "\n",
       "    .dataframe tbody tr th {\n",
       "        vertical-align: top;\n",
       "    }\n",
       "\n",
       "    .dataframe thead th {\n",
       "        text-align: right;\n",
       "    }\n",
       "</style>\n",
       "<table border=\"1\" class=\"dataframe\">\n",
       "  <thead>\n",
       "    <tr style=\"text-align: right;\">\n",
       "      <th></th>\n",
       "      <th>Full Name</th>\n",
       "      <th>Job Title</th>\n",
       "      <th>Department</th>\n",
       "      <th>Business Unit</th>\n",
       "    </tr>\n",
       "  </thead>\n",
       "  <tbody>\n",
       "    <tr>\n",
       "      <th>17</th>\n",
       "      <td>Camila Silva</td>\n",
       "      <td>Sr. Manger</td>\n",
       "      <td>Marketing</td>\n",
       "      <td>Speciality Products</td>\n",
       "    </tr>\n",
       "  </tbody>\n",
       "</table>\n",
       "</div>"
      ],
      "text/plain": [
       "       Full Name   Job Title Department        Business Unit\n",
       "17  Camila Silva  Sr. Manger  Marketing  Speciality Products"
      ]
     },
     "execution_count": 16,
     "metadata": {},
     "output_type": "execute_result"
    }
   ],
   "source": [
    "#for Bouns %, Same as Annual Salary\n",
    "df.loc[df[\"Bonus %\"].isna(),[\"Full Name\", \"Job Title\", \"Department\",\"Business Unit\"]] "
   ]
  },
  {
   "cell_type": "code",
   "execution_count": 17,
   "id": "ea99439b-c15e-4c0f-9e40-4815a8421c96",
   "metadata": {},
   "outputs": [
    {
     "name": "stdout",
     "output_type": "stream",
     "text": [
      "0.125\n"
     ]
    }
   ],
   "source": [
    "print(df.loc[(df[\"Job Title\"] == \"Sr. Manger\") & (df[\"Department\"] == \"Marketing\") & (df[\"Business Unit\"] == \"Speciality Products\"),\"Bonus %\"].mean())"
   ]
  },
  {
   "cell_type": "code",
   "execution_count": 18,
   "id": "bdd6dbd2-08cd-4608-b15a-a463832281e3",
   "metadata": {},
   "outputs": [],
   "source": [
    "df.loc[(df[\"Bonus %\"].isna()) &(df[\"Job Title\"] == \"Sr. Manger\") &(df[\"Department\"] == \"Marketing\") &(df[\"Business Unit\"] == \"Speciality Products\"),\"Bonus %\"] = 0.125"
   ]
  },
  {
   "cell_type": "code",
   "execution_count": 19,
   "id": "74890e40-941c-48f5-ab94-201415cbf2c2",
   "metadata": {},
   "outputs": [
    {
     "data": {
      "text/html": [
       "<div>\n",
       "<style scoped>\n",
       "    .dataframe tbody tr th:only-of-type {\n",
       "        vertical-align: middle;\n",
       "    }\n",
       "\n",
       "    .dataframe tbody tr th {\n",
       "        vertical-align: top;\n",
       "    }\n",
       "\n",
       "    .dataframe thead th {\n",
       "        text-align: right;\n",
       "    }\n",
       "</style>\n",
       "<table border=\"1\" class=\"dataframe\">\n",
       "  <thead>\n",
       "    <tr style=\"text-align: right;\">\n",
       "      <th></th>\n",
       "      <th>Full Name</th>\n",
       "    </tr>\n",
       "  </thead>\n",
       "  <tbody>\n",
       "    <tr>\n",
       "      <th>112</th>\n",
       "      <td>Nova Coleman</td>\n",
       "    </tr>\n",
       "  </tbody>\n",
       "</table>\n",
       "</div>"
      ],
      "text/plain": [
       "        Full Name\n",
       "112  Nova Coleman"
      ]
     },
     "execution_count": 19,
     "metadata": {},
     "output_type": "execute_result"
    }
   ],
   "source": [
    "# checking the name of the employee with the missing gender value\n",
    "df.loc[df[\"Gender\"].isna(),[\"Full Name\"]]"
   ]
  },
  {
   "cell_type": "code",
   "execution_count": 20,
   "id": "6e5eb195-7a06-40a9-8853-e33205c8bded",
   "metadata": {},
   "outputs": [],
   "source": [
    "# its Nova, so obv a Feamale\n",
    "df[\"Gender\"] = df[\"Gender\"].fillna(\"Female\")"
   ]
  },
  {
   "cell_type": "code",
   "execution_count": 21,
   "id": "250a8228-a052-46d5-b7f6-f71578738f7d",
   "metadata": {},
   "outputs": [],
   "source": [
    "#finally filling the missing Age with the mean of ages of Employees\n",
    "df[\"Age\"] = df[\"Age\"].fillna(df[\"Age\"].mean())"
   ]
  },
  {
   "cell_type": "code",
   "execution_count": 22,
   "id": "78ca661b-ef53-47de-bb91-d37e1aaaa04c",
   "metadata": {},
   "outputs": [
    {
     "data": {
      "text/plain": [
       "EEID               0\n",
       "Full Name          0\n",
       "Job Title          0\n",
       "Department         0\n",
       "Business Unit      0\n",
       "Gender             0\n",
       "Ethnicity          0\n",
       "Age                0\n",
       "Hire Date          0\n",
       "Annual Salary      0\n",
       "Bonus %            0\n",
       "Country            0\n",
       "City               0\n",
       "Exit Date        904\n",
       "dtype: int64"
      ]
     },
     "execution_count": 22,
     "metadata": {},
     "output_type": "execute_result"
    }
   ],
   "source": [
    "df.isnull().sum()"
   ]
  },
  {
   "cell_type": "markdown",
   "id": "182f6d4b-d755-41e3-a63b-3a3c32c043fb",
   "metadata": {},
   "source": [
    "## Duplicates"
   ]
  },
  {
   "cell_type": "code",
   "execution_count": 23,
   "id": "89c9bf6d-5d5d-4af9-a546-4d38b20c1738",
   "metadata": {},
   "outputs": [
    {
     "name": "stdout",
     "output_type": "stream",
     "text": [
      "0\n"
     ]
    }
   ],
   "source": [
    "print(df.duplicated().sum())"
   ]
  },
  {
   "cell_type": "markdown",
   "id": "f12a2942-4cfc-4c1c-9cea-de7bb9cc8e56",
   "metadata": {},
   "source": [
    "## Cheking outliers (for Age and Annual salary)"
   ]
  },
  {
   "cell_type": "code",
   "execution_count": 24,
   "id": "af0142a4-52d0-4a36-9cb7-4078c3a9478b",
   "metadata": {},
   "outputs": [
    {
     "name": "stdout",
     "output_type": "stream",
     "text": [
      "Empty DataFrame\n",
      "Columns: [EEID, Full Name, Job Title, Department, Business Unit, Gender, Ethnicity, Age, Hire Date, Annual Salary, Bonus %, Country, City, Exit Date]\n",
      "Index: []\n"
     ]
    }
   ],
   "source": [
    "Q1 = df[\"Age\"].quantile(0.25)\n",
    "Q3 = df[\"Age\"].quantile(0.75)\n",
    "IQR = Q3 - Q1\n",
    "lower_bound = Q1 - 1.5 * IQR\n",
    "upper_bound = Q3 + 1.5 * IQR\n",
    "outliers = df[(df[\"Age\"] < lower_bound) | (df[\"Age\"] > upper_bound)]\n",
    "print(outliers)"
   ]
  },
  {
   "cell_type": "code",
   "execution_count": 25,
   "id": "7b81cfe9-472b-4c70-aeb7-b46537947689",
   "metadata": {},
   "outputs": [
    {
     "name": "stdout",
     "output_type": "stream",
     "text": [
      "Empty DataFrame\n",
      "Columns: [EEID, Full Name, Job Title, Department, Business Unit, Gender, Ethnicity, Age, Hire Date, Annual Salary, Bonus %, Country, City, Exit Date]\n",
      "Index: []\n"
     ]
    }
   ],
   "source": [
    "Q1 = df[\"Annual Salary\"].quantile(0.25)\n",
    "Q3 = df[\"Annual Salary\"].quantile(0.75)\n",
    "IQR = Q3 - Q1\n",
    "\n",
    "lower_bound = Q1 - 1.5 * IQR\n",
    "upper_bound = Q3 + 1.5 * IQR\n",
    "\n",
    "outliers_salary = df[(df[\"Annual Salary\"] < lower_bound) | (df[\"Annual Salary\"] > upper_bound)]\n",
    "print(outliers_salary)"
   ]
  },
  {
   "cell_type": "code",
   "execution_count": 26,
   "id": "b76df3e6-84d9-4710-adc5-2ffc6e7f408f",
   "metadata": {},
   "outputs": [
    {
     "name": "stdout",
     "output_type": "stream",
     "text": [
      "       EEID        Full Name       Job Title       Department  \\\n",
      "74   E00791   Thomas Padilla  Vice President        Marketing   \n",
      "134  E02464     Sophie Silva  Vice President      Engineering   \n",
      "168  E00085        Isla Wong  Vice President       Accounting   \n",
      "172  E03506       Jaxson Mai  Vice President  Human Resources   \n",
      "202  E00715      Elijah Kang  Vice President      Engineering   \n",
      "209  E01486        Mason Cho  Vice President       Accounting   \n",
      "232  E04742     Kinsley Vega  Vice President       Accounting   \n",
      "263  E01232  Samantha Foster  Vice President  Human Resources   \n",
      "284  E02944      Joshua Fong  Vice President      Engineering   \n",
      "324  E04779    Cameron Young  Vice President      Engineering   \n",
      "411  E04962        Elena Tan  Vice President      Engineering   \n",
      "449  E02633  Allison Roberts  Vice President            Sales   \n",
      "462  E03226    Angel Stewart  Vice President          Finance   \n",
      "489  E00325     Jameson Chen  Vice President        Marketing   \n",
      "591  E02687  Caroline Nelson  Vice President          Finance   \n",
      "610  E04170     Grayson Chin  Vice President               IT   \n",
      "641  E01519  Anthony Marquez  Vice President               IT   \n",
      "657  E02825         Wyatt Li  Vice President      Engineering   \n",
      "672  E02563      Emily Clark  Vice President       Accounting   \n",
      "685  E02920     Willow Woods  Vice President  Human Resources   \n",
      "741  E02391   Natalia Santos  Vice President  Human Resources   \n",
      "803  E03289  Christopher Lam  Vice President       Accounting   \n",
      "\n",
      "              Business Unit  Gender  Ethnicity   Age  Hire Date  \\\n",
      "74   Research & Development    Male     Latino  57.0 2003-07-26   \n",
      "134               Corporate  Female     Latino  28.0 2017-07-06   \n",
      "168               Corporate  Female      Asian  56.0 2014-03-16   \n",
      "172  Research & Development    Male      Asian  48.0 2014-03-08   \n",
      "202           Manufacturing    Male      Asian  35.0 2011-10-10   \n",
      "209  Research & Development    Male      Asian  59.0 2011-05-18   \n",
      "232               Corporate  Female     Latino  33.0 2020-12-16   \n",
      "263  Research & Development  Female      Black  34.0 2019-07-27   \n",
      "284     Speciality Products    Male      Asian  47.0 2012-06-11   \n",
      "324           Manufacturing    Male  Caucasian  63.0 2016-01-18   \n",
      "411           Manufacturing  Female      Asian  50.0 2008-10-13   \n",
      "449           Manufacturing  Female      Black  54.0 2000-08-19   \n",
      "462               Corporate    Male  Caucasian  28.0 2019-06-22   \n",
      "489  Research & Development    Male      Asian  39.0 2019-12-05   \n",
      "591               Corporate  Female  Caucasian  36.0 2014-01-11   \n",
      "610  Research & Development    Male      Asian  26.0 2020-05-09   \n",
      "641     Speciality Products    Male     Latino  54.0 2009-08-15   \n",
      "657           Manufacturing    Male      Asian  63.0 2013-06-03   \n",
      "672               Corporate  Female  Caucasian  36.0 2020-01-13   \n",
      "685     Speciality Products  Female  Caucasian  28.0 2021-07-25   \n",
      "741     Speciality Products  Female     Latino  45.0 2019-02-25   \n",
      "803           Manufacturing    Male      Asian  64.0 2013-03-29   \n",
      "\n",
      "     Annual Salary  Bonus %        Country            City  Exit Date  \n",
      "74        206624.0     0.40         Brazil       Sao Paulo        NaT  \n",
      "134       240488.0     0.40         Brazil  Rio de Janerio        NaT  \n",
      "168       190815.0     0.40  United States          Austin        NaT  \n",
      "172       197367.0     0.39  United States          Austin        NaT  \n",
      "202       245482.0     0.39  United States         Seattle        NaT  \n",
      "209       192213.0     0.40  United States         Chicago        NaT  \n",
      "232       258426.0     0.40         Brazil  Rio de Janerio        NaT  \n",
      "263       220937.0     0.38  United States          Austin        NaT  \n",
      "284       222941.0     0.39          China         Beijing        NaT  \n",
      "324       180994.0     0.39  United States         Seattle        NaT  \n",
      "411       181801.0     0.40          China       Chongqing 2019-12-11  \n",
      "449       222224.0     0.38  United States        Columbus        NaT  \n",
      "462       250767.0     0.38  United States         Seattle        NaT  \n",
      "489       254057.0     0.39          China        Shanghai        NaT  \n",
      "591       202323.0     0.39  United States         Chicago        NaT  \n",
      "610       256561.0     0.39  United States          Austin        NaT  \n",
      "641       241083.0     0.39  United States        Columbus        NaT  \n",
      "657       254289.0     0.39  United States         Chicago        NaT  \n",
      "672       253294.0     0.40  United States           Miami        NaT  \n",
      "685       231850.0     0.39  United States           Miami        NaT  \n",
      "741       249801.0     0.39         Brazil       Sao Paulo        NaT  \n",
      "803       252325.0     0.40  United States        Columbus        NaT  \n"
     ]
    }
   ],
   "source": [
    "Q1 = df[\"Bonus %\"].quantile(0.25)\n",
    "Q3 = df[\"Bonus %\"].quantile(0.75)\n",
    "IQR = Q3 - Q1\n",
    "\n",
    "lower_bound = Q1 - 1.5 * IQR\n",
    "upper_bound = Q3 + 1.5 * IQR\n",
    "\n",
    "outliers_salary = df[(df[\"Bonus %\"] < lower_bound) | (df[\"Bonus %\"] > upper_bound)]\n",
    "print(outliers_salary)"
   ]
  },
  {
   "cell_type": "markdown",
   "id": "2a5827eb-7178-47cb-9c1b-999b56281ad5",
   "metadata": {},
   "source": [
    "### so no outliers but in bonus (but all are vice presedents so its normal that its  high)"
   ]
  },
  {
   "cell_type": "markdown",
   "id": "764e9c76-ca4b-4ef6-9ea0-c117fb5e7f6e",
   "metadata": {},
   "source": [
    "# 2 - Changing the first 5 rows "
   ]
  },
  {
   "cell_type": "code",
   "execution_count": 27,
   "id": "f6368405-52f1-4a3d-8dae-bb1ca7b29bd0",
   "metadata": {},
   "outputs": [],
   "source": [
    "new_data = [\n",
    "    [\"E10001\", \"Nashat Alfarajat\", \"AI Secialist\", \"IT\", \"Research & Development\", \"Male\", \"Arab\", 20, \"2022-01-15\", 130000, 0.15, \"Jordan\", \"Amman\", pd.NaT],\n",
    "    [\"E10002\", \"Nour Mansour\", \"Computer Systems Manager\", \"IT\", \"Speciality Products\", \"Male\", \"Arab\", 29, \"2020-06-22\", 75000, 0.07, \"Jordan\", \"Amman\", pd.NaT],\n",
    "    [\"E10003\", \"Khalil Maaitah\", \"Analyst\", \"Finance\", \"Research & Development\", \"Male\", \"Arab\", 32, \"2015-04-10\", 52000, 0.10, \"United States\", \"Chicago\", pd.NaT],\n",
    "    [\"E10004\", \"Sarah kamal\", \"Controls Engineer\", \"Engineering\", \"Manufacturing\", \"Female\", \"Caucasian\", 37, \"2018-09-05\", 71000, 0.08, \"United States\", \"Seattle\", pd.NaT],\n",
    "    [\"E10005\", \"Mohammad Alfarajat\", \"Manager\", \"Marketing\", \"Research & Development\", \"Male\", \"Arab\", 26, \"2021-02-18\", 100000, 0.06, \"Jordan\", \"Amman\", pd.NaT]\n",
    "]"
   ]
  },
  {
   "cell_type": "code",
   "execution_count": 28,
   "id": "944f8628-e43e-424c-8600-32576164a4ae",
   "metadata": {},
   "outputs": [],
   "source": [
    "df.loc[:4, :] = pd.DataFrame(new_data, columns=df.columns)"
   ]
  },
  {
   "cell_type": "code",
   "execution_count": 29,
   "id": "c95623e0-ad36-48d7-a93b-8139909e7502",
   "metadata": {},
   "outputs": [
    {
     "data": {
      "text/html": [
       "<div>\n",
       "<style scoped>\n",
       "    .dataframe tbody tr th:only-of-type {\n",
       "        vertical-align: middle;\n",
       "    }\n",
       "\n",
       "    .dataframe tbody tr th {\n",
       "        vertical-align: top;\n",
       "    }\n",
       "\n",
       "    .dataframe thead th {\n",
       "        text-align: right;\n",
       "    }\n",
       "</style>\n",
       "<table border=\"1\" class=\"dataframe\">\n",
       "  <thead>\n",
       "    <tr style=\"text-align: right;\">\n",
       "      <th></th>\n",
       "      <th>EEID</th>\n",
       "      <th>Full Name</th>\n",
       "      <th>Job Title</th>\n",
       "      <th>Department</th>\n",
       "      <th>Business Unit</th>\n",
       "      <th>Gender</th>\n",
       "      <th>Ethnicity</th>\n",
       "      <th>Age</th>\n",
       "      <th>Hire Date</th>\n",
       "      <th>Annual Salary</th>\n",
       "      <th>Bonus %</th>\n",
       "      <th>Country</th>\n",
       "      <th>City</th>\n",
       "      <th>Exit Date</th>\n",
       "    </tr>\n",
       "  </thead>\n",
       "  <tbody>\n",
       "    <tr>\n",
       "      <th>0</th>\n",
       "      <td>E10001</td>\n",
       "      <td>Nashat Alfarajat</td>\n",
       "      <td>AI Secialist</td>\n",
       "      <td>IT</td>\n",
       "      <td>Research &amp; Development</td>\n",
       "      <td>Male</td>\n",
       "      <td>Arab</td>\n",
       "      <td>20.0</td>\n",
       "      <td>2022-01-15</td>\n",
       "      <td>130000.0</td>\n",
       "      <td>0.15</td>\n",
       "      <td>Jordan</td>\n",
       "      <td>Amman</td>\n",
       "      <td>NaT</td>\n",
       "    </tr>\n",
       "    <tr>\n",
       "      <th>1</th>\n",
       "      <td>E10002</td>\n",
       "      <td>Nour Mansour</td>\n",
       "      <td>Computer Systems Manager</td>\n",
       "      <td>IT</td>\n",
       "      <td>Speciality Products</td>\n",
       "      <td>Male</td>\n",
       "      <td>Arab</td>\n",
       "      <td>29.0</td>\n",
       "      <td>2020-06-22</td>\n",
       "      <td>75000.0</td>\n",
       "      <td>0.07</td>\n",
       "      <td>Jordan</td>\n",
       "      <td>Amman</td>\n",
       "      <td>NaT</td>\n",
       "    </tr>\n",
       "    <tr>\n",
       "      <th>2</th>\n",
       "      <td>E10003</td>\n",
       "      <td>Khalil Maaitah</td>\n",
       "      <td>Analyst</td>\n",
       "      <td>Finance</td>\n",
       "      <td>Research &amp; Development</td>\n",
       "      <td>Male</td>\n",
       "      <td>Arab</td>\n",
       "      <td>32.0</td>\n",
       "      <td>2015-04-10</td>\n",
       "      <td>52000.0</td>\n",
       "      <td>0.10</td>\n",
       "      <td>United States</td>\n",
       "      <td>Chicago</td>\n",
       "      <td>NaT</td>\n",
       "    </tr>\n",
       "    <tr>\n",
       "      <th>3</th>\n",
       "      <td>E10004</td>\n",
       "      <td>Sarah kamal</td>\n",
       "      <td>Controls Engineer</td>\n",
       "      <td>Engineering</td>\n",
       "      <td>Manufacturing</td>\n",
       "      <td>Female</td>\n",
       "      <td>Caucasian</td>\n",
       "      <td>37.0</td>\n",
       "      <td>2018-09-05</td>\n",
       "      <td>71000.0</td>\n",
       "      <td>0.08</td>\n",
       "      <td>United States</td>\n",
       "      <td>Seattle</td>\n",
       "      <td>NaT</td>\n",
       "    </tr>\n",
       "    <tr>\n",
       "      <th>4</th>\n",
       "      <td>E10005</td>\n",
       "      <td>Mohammad Alfarajat</td>\n",
       "      <td>Manager</td>\n",
       "      <td>Marketing</td>\n",
       "      <td>Research &amp; Development</td>\n",
       "      <td>Male</td>\n",
       "      <td>Arab</td>\n",
       "      <td>26.0</td>\n",
       "      <td>2021-02-18</td>\n",
       "      <td>100000.0</td>\n",
       "      <td>0.06</td>\n",
       "      <td>Jordan</td>\n",
       "      <td>Amman</td>\n",
       "      <td>NaT</td>\n",
       "    </tr>\n",
       "  </tbody>\n",
       "</table>\n",
       "</div>"
      ],
      "text/plain": [
       "     EEID           Full Name                 Job Title   Department  \\\n",
       "0  E10001    Nashat Alfarajat              AI Secialist           IT   \n",
       "1  E10002        Nour Mansour  Computer Systems Manager           IT   \n",
       "2  E10003      Khalil Maaitah                   Analyst      Finance   \n",
       "3  E10004         Sarah kamal         Controls Engineer  Engineering   \n",
       "4  E10005  Mohammad Alfarajat                   Manager    Marketing   \n",
       "\n",
       "            Business Unit  Gender  Ethnicity   Age  Hire Date  Annual Salary  \\\n",
       "0  Research & Development    Male       Arab  20.0 2022-01-15       130000.0   \n",
       "1     Speciality Products    Male       Arab  29.0 2020-06-22        75000.0   \n",
       "2  Research & Development    Male       Arab  32.0 2015-04-10        52000.0   \n",
       "3           Manufacturing  Female  Caucasian  37.0 2018-09-05        71000.0   \n",
       "4  Research & Development    Male       Arab  26.0 2021-02-18       100000.0   \n",
       "\n",
       "   Bonus %        Country     City Exit Date  \n",
       "0     0.15         Jordan    Amman       NaT  \n",
       "1     0.07         Jordan    Amman       NaT  \n",
       "2     0.10  United States  Chicago       NaT  \n",
       "3     0.08  United States  Seattle       NaT  \n",
       "4     0.06         Jordan    Amman       NaT  "
      ]
     },
     "execution_count": 29,
     "metadata": {},
     "output_type": "execute_result"
    }
   ],
   "source": [
    "df.head()"
   ]
  },
  {
   "cell_type": "markdown",
   "id": "71c737c7-b084-4555-ad7b-187bc1423066",
   "metadata": {},
   "source": [
    "## 3- Row with largest salary"
   ]
  },
  {
   "cell_type": "code",
   "execution_count": 30,
   "id": "73ac1218-74ed-43c1-980e-c389bec99621",
   "metadata": {},
   "outputs": [
    {
     "name": "stdout",
     "output_type": "stream",
     "text": [
      "258498.0\n"
     ]
    }
   ],
   "source": [
    "print(max(df[\"Annual Salary\"]))"
   ]
  },
  {
   "cell_type": "code",
   "execution_count": 31,
   "id": "ba2f0a9f-e511-488f-930d-4a179cb303aa",
   "metadata": {},
   "outputs": [
    {
     "data": {
      "text/html": [
       "<div>\n",
       "<style scoped>\n",
       "    .dataframe tbody tr th:only-of-type {\n",
       "        vertical-align: middle;\n",
       "    }\n",
       "\n",
       "    .dataframe tbody tr th {\n",
       "        vertical-align: top;\n",
       "    }\n",
       "\n",
       "    .dataframe thead th {\n",
       "        text-align: right;\n",
       "    }\n",
       "</style>\n",
       "<table border=\"1\" class=\"dataframe\">\n",
       "  <thead>\n",
       "    <tr style=\"text-align: right;\">\n",
       "      <th></th>\n",
       "      <th>EEID</th>\n",
       "      <th>Full Name</th>\n",
       "      <th>Job Title</th>\n",
       "      <th>Department</th>\n",
       "      <th>Business Unit</th>\n",
       "      <th>Gender</th>\n",
       "      <th>Ethnicity</th>\n",
       "      <th>Age</th>\n",
       "      <th>Hire Date</th>\n",
       "      <th>Annual Salary</th>\n",
       "      <th>Bonus %</th>\n",
       "      <th>Country</th>\n",
       "      <th>City</th>\n",
       "      <th>Exit Date</th>\n",
       "    </tr>\n",
       "  </thead>\n",
       "  <tbody>\n",
       "    <tr>\n",
       "      <th>989</th>\n",
       "      <td>E04354</td>\n",
       "      <td>Raelynn Rios</td>\n",
       "      <td>Vice President</td>\n",
       "      <td>Sales</td>\n",
       "      <td>Manufacturing</td>\n",
       "      <td>Female</td>\n",
       "      <td>Latino</td>\n",
       "      <td>43.0</td>\n",
       "      <td>2016-08-21</td>\n",
       "      <td>258498.0</td>\n",
       "      <td>0.35</td>\n",
       "      <td>United States</td>\n",
       "      <td>Columbus</td>\n",
       "      <td>NaT</td>\n",
       "    </tr>\n",
       "  </tbody>\n",
       "</table>\n",
       "</div>"
      ],
      "text/plain": [
       "       EEID     Full Name       Job Title Department  Business Unit  Gender  \\\n",
       "989  E04354  Raelynn Rios  Vice President      Sales  Manufacturing  Female   \n",
       "\n",
       "    Ethnicity   Age  Hire Date  Annual Salary  Bonus %        Country  \\\n",
       "989    Latino  43.0 2016-08-21       258498.0     0.35  United States   \n",
       "\n",
       "         City Exit Date  \n",
       "989  Columbus       NaT  "
      ]
     },
     "execution_count": 31,
     "metadata": {},
     "output_type": "execute_result"
    }
   ],
   "source": [
    "df.loc[df[\"Annual Salary\"] == 258498.0]"
   ]
  },
  {
   "cell_type": "markdown",
   "id": "8a4f0a04-774e-4e80-8e0b-3d949c859b69",
   "metadata": {},
   "source": [
    "## 4- Group by Department, getting average salary and average age"
   ]
  },
  {
   "cell_type": "code",
   "execution_count": 32,
   "id": "44b5be74-d44d-4329-8f25-fbb88a4f7239",
   "metadata": {},
   "outputs": [
    {
     "data": {
      "text/html": [
       "<div>\n",
       "<style scoped>\n",
       "    .dataframe tbody tr th:only-of-type {\n",
       "        vertical-align: middle;\n",
       "    }\n",
       "\n",
       "    .dataframe tbody tr th {\n",
       "        vertical-align: top;\n",
       "    }\n",
       "\n",
       "    .dataframe thead th {\n",
       "        text-align: right;\n",
       "    }\n",
       "</style>\n",
       "<table border=\"1\" class=\"dataframe\">\n",
       "  <thead>\n",
       "    <tr style=\"text-align: right;\">\n",
       "      <th></th>\n",
       "      <th>Age</th>\n",
       "      <th>Annual Salary</th>\n",
       "    </tr>\n",
       "    <tr>\n",
       "      <th>Department</th>\n",
       "      <th></th>\n",
       "      <th></th>\n",
       "    </tr>\n",
       "  </thead>\n",
       "  <tbody>\n",
       "    <tr>\n",
       "      <th>Accounting</th>\n",
       "      <td>43.656250</td>\n",
       "      <td>123146.947917</td>\n",
       "    </tr>\n",
       "    <tr>\n",
       "      <th>Engineering</th>\n",
       "      <td>45.700637</td>\n",
       "      <td>108291.863567</td>\n",
       "    </tr>\n",
       "    <tr>\n",
       "      <th>Finance</th>\n",
       "      <td>44.793103</td>\n",
       "      <td>122731.431034</td>\n",
       "    </tr>\n",
       "    <tr>\n",
       "      <th>Human Resources</th>\n",
       "      <td>44.411290</td>\n",
       "      <td>117523.411290</td>\n",
       "    </tr>\n",
       "    <tr>\n",
       "      <th>IT</th>\n",
       "      <td>44.078014</td>\n",
       "      <td>97433.085106</td>\n",
       "    </tr>\n",
       "    <tr>\n",
       "      <th>Marketing</th>\n",
       "      <td>43.074380</td>\n",
       "      <td>129417.884298</td>\n",
       "    </tr>\n",
       "    <tr>\n",
       "      <th>Sales</th>\n",
       "      <td>43.604317</td>\n",
       "      <td>111225.338129</td>\n",
       "    </tr>\n",
       "  </tbody>\n",
       "</table>\n",
       "</div>"
      ],
      "text/plain": [
       "                       Age  Annual Salary\n",
       "Department                               \n",
       "Accounting       43.656250  123146.947917\n",
       "Engineering      45.700637  108291.863567\n",
       "Finance          44.793103  122731.431034\n",
       "Human Resources  44.411290  117523.411290\n",
       "IT               44.078014   97433.085106\n",
       "Marketing        43.074380  129417.884298\n",
       "Sales            43.604317  111225.338129"
      ]
     },
     "execution_count": 32,
     "metadata": {},
     "output_type": "execute_result"
    }
   ],
   "source": [
    "df.groupby(\"Department\")[[\"Age\", \"Annual Salary\"]].mean()"
   ]
  },
  {
   "cell_type": "markdown",
   "id": "b351397a-a15c-4898-bf74-fda1d799522a",
   "metadata": {},
   "source": [
    "## 5- Group by Department + Ethnicity, maximum age,minimum age, median salary"
   ]
  },
  {
   "cell_type": "code",
   "execution_count": 33,
   "id": "b9651aae-3e44-4e00-9d8b-c44f2c279030",
   "metadata": {},
   "outputs": [
    {
     "data": {
      "text/html": [
       "<div>\n",
       "<style scoped>\n",
       "    .dataframe tbody tr th:only-of-type {\n",
       "        vertical-align: middle;\n",
       "    }\n",
       "\n",
       "    .dataframe tbody tr th {\n",
       "        vertical-align: top;\n",
       "    }\n",
       "\n",
       "    .dataframe thead th {\n",
       "        text-align: right;\n",
       "    }\n",
       "</style>\n",
       "<table border=\"1\" class=\"dataframe\">\n",
       "  <thead>\n",
       "    <tr style=\"text-align: right;\">\n",
       "      <th></th>\n",
       "      <th>Department</th>\n",
       "      <th>Ethnicity</th>\n",
       "      <th>Max Age</th>\n",
       "      <th>Min Age</th>\n",
       "      <th>Median Salary</th>\n",
       "    </tr>\n",
       "  </thead>\n",
       "  <tbody>\n",
       "    <tr>\n",
       "      <th>0</th>\n",
       "      <td>Accounting</td>\n",
       "      <td>Asian</td>\n",
       "      <td>64.0</td>\n",
       "      <td>25.0</td>\n",
       "      <td>114893.0</td>\n",
       "    </tr>\n",
       "    <tr>\n",
       "      <th>1</th>\n",
       "      <td>Accounting</td>\n",
       "      <td>Black</td>\n",
       "      <td>51.0</td>\n",
       "      <td>30.0</td>\n",
       "      <td>91853.0</td>\n",
       "    </tr>\n",
       "    <tr>\n",
       "      <th>2</th>\n",
       "      <td>Accounting</td>\n",
       "      <td>Caucasian</td>\n",
       "      <td>62.0</td>\n",
       "      <td>26.0</td>\n",
       "      <td>121159.5</td>\n",
       "    </tr>\n",
       "    <tr>\n",
       "      <th>3</th>\n",
       "      <td>Accounting</td>\n",
       "      <td>Latino</td>\n",
       "      <td>62.0</td>\n",
       "      <td>26.0</td>\n",
       "      <td>92317.0</td>\n",
       "    </tr>\n",
       "    <tr>\n",
       "      <th>4</th>\n",
       "      <td>Engineering</td>\n",
       "      <td>Asian</td>\n",
       "      <td>65.0</td>\n",
       "      <td>25.0</td>\n",
       "      <td>91230.0</td>\n",
       "    </tr>\n",
       "    <tr>\n",
       "      <th>5</th>\n",
       "      <td>Engineering</td>\n",
       "      <td>Black</td>\n",
       "      <td>56.0</td>\n",
       "      <td>27.0</td>\n",
       "      <td>74412.0</td>\n",
       "    </tr>\n",
       "    <tr>\n",
       "      <th>6</th>\n",
       "      <td>Engineering</td>\n",
       "      <td>Caucasian</td>\n",
       "      <td>64.0</td>\n",
       "      <td>25.0</td>\n",
       "      <td>90658.0</td>\n",
       "    </tr>\n",
       "    <tr>\n",
       "      <th>7</th>\n",
       "      <td>Engineering</td>\n",
       "      <td>Latino</td>\n",
       "      <td>64.0</td>\n",
       "      <td>27.0</td>\n",
       "      <td>96818.0</td>\n",
       "    </tr>\n",
       "    <tr>\n",
       "      <th>8</th>\n",
       "      <td>Finance</td>\n",
       "      <td>Arab</td>\n",
       "      <td>32.0</td>\n",
       "      <td>32.0</td>\n",
       "      <td>52000.0</td>\n",
       "    </tr>\n",
       "    <tr>\n",
       "      <th>9</th>\n",
       "      <td>Finance</td>\n",
       "      <td>Asian</td>\n",
       "      <td>64.0</td>\n",
       "      <td>25.0</td>\n",
       "      <td>125329.0</td>\n",
       "    </tr>\n",
       "  </tbody>\n",
       "</table>\n",
       "</div>"
      ],
      "text/plain": [
       "    Department  Ethnicity  Max Age  Min Age  Median Salary\n",
       "0   Accounting      Asian     64.0     25.0       114893.0\n",
       "1   Accounting      Black     51.0     30.0        91853.0\n",
       "2   Accounting  Caucasian     62.0     26.0       121159.5\n",
       "3   Accounting     Latino     62.0     26.0        92317.0\n",
       "4  Engineering      Asian     65.0     25.0        91230.0\n",
       "5  Engineering      Black     56.0     27.0        74412.0\n",
       "6  Engineering  Caucasian     64.0     25.0        90658.0\n",
       "7  Engineering     Latino     64.0     27.0        96818.0\n",
       "8      Finance       Arab     32.0     32.0        52000.0\n",
       "9      Finance      Asian     64.0     25.0       125329.0"
      ]
     },
     "execution_count": 33,
     "metadata": {},
     "output_type": "execute_result"
    }
   ],
   "source": [
    "grouped = df.groupby([\"Department\", \"Ethnicity\"])\n",
    "result = grouped[[\"Age\", \"Annual Salary\"]].agg({\"Age\": [\"max\", \"min\"],\"Annual Salary\": \"median\"})\n",
    "result.columns = [\"Max Age\", \"Min Age\", \"Median Salary\"]\n",
    "result = result.reset_index()\n",
    "result.head(10)"
   ]
  },
  {
   "cell_type": "markdown",
   "id": "1a9f9d17-758d-473e-9296-c4eed6fd1cf3",
   "metadata": {},
   "source": [
    "## 6- saving to excel file"
   ]
  },
  {
   "cell_type": "code",
   "execution_count": 34,
   "id": "103fbd17-5680-4312-ac46-8967f74117e1",
   "metadata": {},
   "outputs": [],
   "source": [
    "df.to_excel(r\"C:\\Users\\NSHAT\\Estarta - internship\\task 1\\Employee Sample Data Cleaned.xlsx\",index=False)"
   ]
  },
  {
   "cell_type": "markdown",
   "id": "023d478f-4cea-4272-95c9-7569ec2fc948",
   "metadata": {},
   "source": [
    " # Plotting and Gaining Insights"
   ]
  },
  {
   "cell_type": "code",
   "execution_count": 35,
   "id": "8e3d20c1-f723-4fb0-8de2-317d2490efae",
   "metadata": {},
   "outputs": [
    {
     "data": {
      "image/png": "[encoded data removed]",
      "text/plain": [
       "<Figure size 1000x600 with 1 Axes>"
      ]
     },
     "metadata": {},
     "output_type": "display_data"
    }
   ],
   "source": [
    "df['Hire Year'] = df['Hire Date'].dt.year\n",
    "# Count employees hired each year\n",
    "hire_counts = df['Hire Year'].value_counts().sort_index()\n",
    "\n",
    "plt.figure(figsize=(10, 6))\n",
    "plt.plot(hire_counts.index, hire_counts.values, marker='o', color='teal', linestyle='-')\n",
    "\n",
    "plt.title('Number of Employees Hired Each Year')\n",
    "plt.xlabel('Year',size=15)\n",
    "plt.ylabel('Number of Employees',size=15)\n",
    "plt.grid(True)\n",
    "plt.tight_layout()\n",
    "plt.show()\n"
   ]
  },
  {
   "cell_type": "code",
   "execution_count": 36,
   "id": "855d744e-1e0d-478f-b684-27a124f5078f",
   "metadata": {},
   "outputs": [
    {
     "data": {
      "image/png": "[encoded data removed]",
      "text/plain": [
       "<Figure size 1000x600 with 1 Axes>"
      ]
     },
     "metadata": {},
     "output_type": "display_data"
    }
   ],
   "source": [
    "import matplotlib.pyplot as plt\n",
    "\n",
    "gender_counts = df.groupby(['Department', 'Gender']).size().unstack(fill_value=0)\n",
    "\n",
    "gender_counts.plot(kind='bar', figsize=(10, 6), edgecolor='black',color=[\"Magenta\",\"DodgerBlue\"])\n",
    "\n",
    "plt.title('Number of Males and Females in Each Department')\n",
    "plt.xlabel('Department',size=12)\n",
    "plt.ylabel('Number of Employees',size=12)\n",
    "plt.xticks(rotation=0,size=10)\n",
    "plt.legend(title='Gender')\n",
    "\n",
    "plt.show()\n"
   ]
  },
  {
   "cell_type": "code",
   "execution_count": 37,
   "id": "aec28018-1b62-4fa8-99fb-6dc8d9c2885e",
   "metadata": {},
   "outputs": [
    {
     "data": {
      "image/png": "[encoded data removed]",
      "text/plain": [
       "<Figure size 800x800 with 1 Axes>"
      ]
     },
     "metadata": {},
     "output_type": "display_data"
    }
   ],
   "source": [
    "ethnicity_counts = df['Ethnicity'].value_counts()\n",
    "\n",
    "plt.figure(figsize=(8, 8))\n",
    "plt.pie(ethnicity_counts, labels=ethnicity_counts.index, autopct='%1.1f%%',colors=['#1f77b4', '#ff7f0e', '#2ca02c', '#d62728', '#9467bd'])\n",
    "plt.title('Ethnicity Proportion in the Company')\n",
    "plt.axis('equal')  # Equal aspect ratio to make pie circular\n",
    "plt.show()\n"
   ]
  },
  {
   "cell_type": "code",
   "execution_count": 38,
   "id": "89d53918-f293-4134-bb87-007ba95e786b",
   "metadata": {},
   "outputs": [
    {
     "data": {
      "image/png": "[encoded data removed]",
      "text/plain": [
       "<Figure size 800x600 with 2 Axes>"
      ]
     },
     "metadata": {},
     "output_type": "display_data"
    }
   ],
   "source": [
    "numerical_cols = ['Age', 'Annual Salary', 'Bonus %']\n",
    "\n",
    "corr = df[numerical_cols].corr()\n",
    "\n",
    "plt.figure(figsize=(8, 6))\n",
    "sns.heatmap(corr, annot=True, cmap='coolwarm', fmt=\".2f\", linewidths=0.5)\n",
    "\n",
    "plt.title('Correlation Heatmap of Numerical Variables')\n",
    "plt.show()"
   ]
  }
 ],
 "metadata": {
  "kernelspec": {
   "display_name": "Python [conda env:base] *",
   "language": "python",
   "name": "conda-base-py"
  },
  "language_info": {
   "codemirror_mode": {
    "name": "ipython",
    "version": 3
   },
   "file_extension": ".py",
   "mimetype": "text/x-python",
   "name": "python",
   "nbconvert_exporter": "python",
   "pygments_lexer": "ipython3",
   "version": "3.13.5"
  }
 },
 "nbformat": 4,
 "nbformat_minor": 5
}
